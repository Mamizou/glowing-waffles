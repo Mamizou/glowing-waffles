{
 "cells": [
  {
   "cell_type": "code",
   "execution_count": 1,
   "metadata": {},
   "outputs": [],
   "source": [
    "class ObserveACP:\n",
    "    \n",
    "    def __init__(self, name, date):\n",
    "        \n",
    "        from astropy.coordinates import SkyCoord\n",
    "        from astropy.time import Time\n",
    "        import datetime\n",
    "    \n",
    "        self.name = name\n",
    "        self.filters = []\n",
    "        self.binning = 1\n",
    "        \n",
    "        self.ra = SkyCoord.from_name(name).ra.deg\n",
    "        self.dec = SkyCoord.from_name(name).dec.deg\n",
    "        \n",
    "        #self.date = str(datetime.datetime.today()).split()[0]\n",
    "        self.date = date\n",
    "        \n",
    "        \n",
    "    def wait_until(self, time):\n",
    "        self.startTime = time\n",
    "        \n",
    "        \n",
    "    def add_filter(self, filt):\n",
    "        \n",
    "        if filt in self.filters:\n",
    "            print(\"Filter\", filt, \"is already in list!\")\n",
    "        \n",
    "        elif isinstance(filt, str):\n",
    "            # do the string thing\n",
    "            self.filters.append(filt)\n",
    "        \n",
    "        elif isinstance(filt, str) == False:\n",
    "            try:\n",
    "                # loop over elements in filt\n",
    "                for i in filt:\n",
    "                    if i in self.filters:\n",
    "                        print(\"Filter\", i, \"is already in list\")\n",
    "                        \n",
    "                    else:\n",
    "                        self.filters.append(i)\n",
    "                    \n",
    "            except IndexError:\n",
    "                raise ValueError('filt must be a non-string iterable')\n",
    "                \n",
    "        \n",
    "    def rm_filter(self, filt):\n",
    "        \n",
    "        if filt not in self.filters:\n",
    "            print(\"No filter\", filt, \"in list\")\n",
    "        \n",
    "        elif isinstance(filt, str):\n",
    "            self.filters.remove(filt)\n",
    "            \n",
    "        elif isinstance(filt, str) == False:\n",
    "            try:\n",
    "                for i in filt:\n",
    "                    if i in self.filters:\n",
    "                        \n",
    "                        self.filters.remove(i)\n",
    "                        \n",
    "                    else:\n",
    "                        print(\"No filter\", filt, \"in list\")\n",
    "            except IndexError:\n",
    "                raise ValueError('filt must be a non-string iterable')\n",
    "                \n",
    "        \n",
    "        \n",
    "    def expose(self, num):\n",
    "        self.exposure = num\n",
    "        \n",
    "        \n",
    "    def count(self, num):\n",
    "        self.imCount = num\n",
    "        \n",
    "    \n",
    "    def repeat(self, num):\n",
    "        self.repeats = num\n",
    "        \n",
    "    \n",
    "    def write(self):\n",
    "    \n",
    "        scalar = len(self.filters)\n",
    "        \n",
    "        f = open(self.date, 'w')\n",
    "    \n",
    "        f.write(\"#waituntil 1, \" +  str(self.startTime) + '\\n')\n",
    "        f.write(\"#repeat \" + str(self.repeats) + '\\n')\n",
    "        \n",
    "        count = scalar * (str(self.imCount) + ',')\n",
    "        f.write(\"#count \" + count + '\\n')\n",
    "        \n",
    "        f.write(\"#filter \")\n",
    "        for i in self.filters:\n",
    "            f.write(i + ',')\n",
    "        f.write('\\n')\n",
    "        \n",
    "        interval = scalar * (str(self.exposure) + ',')\n",
    "        f.write(\"#interval \" + interval + '\\n')\n",
    "        \n",
    "        binning = scalar * (str(self.binning) + ',')\n",
    "        f.write(\"#binning \" + binning + '\\n')\n",
    "        \n",
    "        RA = str(self.ra)\n",
    "        DEC = str(self.dec)\n",
    "        f.write(self.name + '    ' + RA + '    ' + DEC + '\\n' + '\\n')\n",
    "      "
   ]
  },
  {
   "cell_type": "code",
   "execution_count": null,
   "metadata": {},
   "outputs": [],
   "source": []
  },
  {
   "cell_type": "code",
   "execution_count": 2,
   "metadata": {},
   "outputs": [],
   "source": [
    "obj = ObserveACP(\"m34\", \"2019-02-24\")"
   ]
  },
  {
   "cell_type": "code",
   "execution_count": 3,
   "metadata": {},
   "outputs": [
    {
     "name": "stdout",
     "output_type": "stream",
     "text": [
      "40.52083333 42.76166667\n"
     ]
    }
   ],
   "source": [
    "print(obj.ra, obj.dec)"
   ]
  },
  {
   "cell_type": "code",
   "execution_count": 4,
   "metadata": {},
   "outputs": [
    {
     "name": "stdout",
     "output_type": "stream",
     "text": [
      "Filter b is already in list!\n"
     ]
    },
    {
     "data": {
      "text/plain": [
       "['Rc', 'b', 'i', 'r']"
      ]
     },
     "execution_count": 4,
     "metadata": {},
     "output_type": "execute_result"
    }
   ],
   "source": [
    "obj.add_filter('Rc')\n",
    "obj.add_filter(('b', 'i', 'r'))\n",
    "obj.add_filter('b')\n",
    "\n",
    "obj.filters"
   ]
  },
  {
   "cell_type": "code",
   "execution_count": 5,
   "metadata": {},
   "outputs": [
    {
     "data": {
      "text/plain": [
       "['b', 'i', 'r']"
      ]
     },
     "execution_count": 5,
     "metadata": {},
     "output_type": "execute_result"
    }
   ],
   "source": [
    "obj.rm_filter('Rc')\n",
    "obj.filters"
   ]
  },
  {
   "cell_type": "code",
   "execution_count": 6,
   "metadata": {},
   "outputs": [
    {
     "data": {
      "text/plain": [
       "'2019-02-24'"
      ]
     },
     "execution_count": 6,
     "metadata": {},
     "output_type": "execute_result"
    }
   ],
   "source": [
    "obj.date"
   ]
  },
  {
   "cell_type": "code",
   "execution_count": 7,
   "metadata": {},
   "outputs": [
    {
     "data": {
      "text/plain": [
       "3"
      ]
     },
     "execution_count": 7,
     "metadata": {},
     "output_type": "execute_result"
    }
   ],
   "source": [
    "obj.count(3)\n",
    "obj.imCount"
   ]
  },
  {
   "cell_type": "code",
   "execution_count": 8,
   "metadata": {},
   "outputs": [],
   "source": [
    "obj.expose(90)\n",
    "obj.count(3)\n",
    "obj.repeat(1)\n",
    "obj.wait_until(\"01:23:45\")\n",
    "obj.write()"
   ]
  },
  {
   "cell_type": "code",
   "execution_count": null,
   "metadata": {},
   "outputs": [],
   "source": []
  }
 ],
 "metadata": {
  "kernelspec": {
   "display_name": "Python 3",
   "language": "python",
   "name": "python3"
  },
  "language_info": {
   "codemirror_mode": {
    "name": "ipython",
    "version": 3
   },
   "file_extension": ".py",
   "mimetype": "text/x-python",
   "name": "python",
   "nbconvert_exporter": "python",
   "pygments_lexer": "ipython3",
   "version": "3.6.6"
  }
 },
 "nbformat": 4,
 "nbformat_minor": 2
}
